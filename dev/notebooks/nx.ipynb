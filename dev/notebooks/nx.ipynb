{
 "cells": [
  {
   "cell_type": "code",
   "execution_count": 1,
   "metadata": {},
   "outputs": [],
   "source": [
    "import networkx as nx\n",
    "import matplotlib.pyplot as plt "
   ]
  },
  {
   "cell_type": "code",
   "execution_count": 17,
   "metadata": {},
   "outputs": [
    {
     "data": {
      "text/plain": [
       "OutEdgeDataView([('A', 'B', {'weight': 13, 'relation': 'friend'}), ('B', 'C', {'weight': 9, 'relation': 'family'}), ('B', 'D', {'weight': 7, 'relation': 'friend'}), ('E', 'B', {'weight': 10, 'relation': 'friend'}), ('E', 'A', {'weight': 1, 'relation': 'enemy'}), ('F', 'B', {'weight': 13, 'relation': 'family'})])"
      ]
     },
     "execution_count": 17,
     "metadata": {},
     "output_type": "execute_result"
    }
   ],
   "source": [
    "G = nx.DiGraph()\n",
    "G.add_node('A',latitude=5.142483952904965,longitude=52.047856116391635)\n",
    "G.add_node('B',latitude=5.42483952904965,longitude=52.47856116391635)\n",
    "G.add_node('C',latitude=5.2483952904965,longitude=52.7856116391635)\n",
    "G.add_node('D',latitude=5.483952904965,longitude=52.56116391635)\n",
    "G.add_node('E',latitude=5.83952904965,longitude=52.56116391635)\n",
    "G.add_node('F',latitude=5.3952904965,longitude=52.6116391635)\n",
    "G.add_edge('A','B',weight=13,relation='friend')\n",
    "G.add_edge('B','C',weight=9,relation='family')\n",
    "G.add_edge('B','D',weight=7,relation='friend')\n",
    "G.add_edge('E','B',weight=10,relation='friend')\n",
    "G.add_edge('E','A',weight=1,relation='enemy')\n",
    "G.add_edge('F','B',weight=13,relation='family')\n",
    "G.edges(data=True)"
   ]
  },
  {
   "cell_type": "code",
   "execution_count": 21,
   "metadata": {},
   "outputs": [
    {
     "data": {
      "image/png": "[encoded data removed]",
      "text/plain": [
       "<Figure size 432x288 with 1 Axes>"
      ]
     },
     "metadata": {},
     "output_type": "display_data"
    }
   ],
   "source": [
    "nx.draw_networkx(G, with_labels=True)"
   ]
  },
  {
   "cell_type": "code",
   "execution_count": 20,
   "metadata": {},
   "outputs": [],
   "source": [
    "#nx.write_pajek(G,'simp.net')\n",
    "#nx.write_edgelist(G,'simp.edgelist',data=False)\n",
    "nx.write_graphml(G,'simp.graphml')"
   ]
  },
  {
   "cell_type": "code",
   "execution_count": 24,
   "metadata": {},
   "outputs": [],
   "source": [
    "G=nx.read_gpickle('../../datasets/G_nwb/G_test_bb1.pkl')"
   ]
  },
  {
   "cell_type": "code",
   "execution_count": 32,
   "metadata": {},
   "outputs": [],
   "source": [
    "nodelist=[]\n",
    "coord2id={}\n",
    "for i,t in enumerate(list(G.nodes())):\n",
    "    nodelist.append((i,{'latitude':t[0],'longitude':t[1]}))\n",
    "    coord2id[t]=i\n"
   ]
  },
  {
   "cell_type": "code",
   "execution_count": 29,
   "metadata": {},
   "outputs": [
    {
     "data": {
      "text/plain": [
       "(0, {'latitude': 5.142483952904965, 'longitude': 52.047856116391635})"
      ]
     },
     "execution_count": 29,
     "metadata": {},
     "output_type": "execute_result"
    }
   ],
   "source": [
    "nodelist[0]"
   ]
  },
  {
   "cell_type": "code",
   "execution_count": 30,
   "metadata": {},
   "outputs": [
    {
     "data": {
      "text/plain": [
       "(1, {'latitude': 5.144318548354211, 'longitude': 52.05268674574919})"
      ]
     },
     "execution_count": 30,
     "metadata": {},
     "output_type": "execute_result"
    }
   ],
   "source": [
    "nodelist[1]"
   ]
  },
  {
   "cell_type": "code",
   "execution_count": 35,
   "metadata": {},
   "outputs": [
    {
     "data": {
      "text/plain": [
       "((5.142483952904965, 52.047856116391635),\n",
       " (5.144318548354211, 52.05268674574919))"
      ]
     },
     "execution_count": 35,
     "metadata": {},
     "output_type": "execute_result"
    }
   ],
   "source": [
    "list(G.edges())[0]"
   ]
  },
  {
   "cell_type": "code",
   "execution_count": 37,
   "metadata": {},
   "outputs": [],
   "source": [
    "edgelist=[]\n",
    "for j,e in enumerate(list(G.edges())):\n",
    "    source=e[0]\n",
    "    target=e[1]\n",
    "    edgelist.append((coord2id[source],coord2id[target]))\n"
   ]
  },
  {
   "cell_type": "code",
   "execution_count": null,
   "metadata": {},
   "outputs": [],
   "source": [
    "edgelist"
   ]
  },
  {
   "cell_type": "code",
   "execution_count": 39,
   "metadata": {},
   "outputs": [],
   "source": [
    "H=nx.DiGraph()"
   ]
  },
  {
   "cell_type": "code",
   "execution_count": 40,
   "metadata": {},
   "outputs": [],
   "source": [
    "H.add_nodes_from(nodelist)"
   ]
  },
  {
   "cell_type": "code",
   "execution_count": 41,
   "metadata": {},
   "outputs": [],
   "source": [
    "H.add_edges_from(edgelist)"
   ]
  },
  {
   "cell_type": "code",
   "execution_count": 42,
   "metadata": {},
   "outputs": [],
   "source": [
    "nx.write_graphml(H,'simp.graphml')"
   ]
  },
  {
   "cell_type": "code",
   "execution_count": null,
   "metadata": {},
   "outputs": [],
   "source": []
  }
 ],
 "metadata": {
  "interpreter": {
   "hash": "2b230eb2ec056240e3caf3fa14853edcac942e52e1a96c1726a34591b4c90f86"
  },
  "kernelspec": {
   "display_name": "Python 3.7.11 ('rlcourse-sb3c')",
   "language": "python",
   "name": "python3"
  },
  "language_info": {
   "codemirror_mode": {
    "name": "ipython",
    "version": 3
   },
   "file_extension": ".py",
   "mimetype": "text/x-python",
   "name": "python",
   "nbconvert_exporter": "python",
   "pygments_lexer": "ipython3",
   "version": "3.7.11"
  },
  "orig_nbformat": 4
 },
 "nbformat": 4,
 "nbformat_minor": 2
}
