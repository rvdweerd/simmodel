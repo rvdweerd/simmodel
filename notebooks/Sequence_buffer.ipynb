{
 "cells": [
  {
   "cell_type": "code",
   "execution_count": 1,
   "metadata": {},
   "outputs": [],
   "source": [
    "import random"
   ]
  },
  {
   "cell_type": "code",
   "execution_count": 2,
   "metadata": {},
   "outputs": [],
   "source": [
    "class SeqReplayMemory:\n",
    "    def __init__(self, capacity):\n",
    "        self.capacity = capacity # number of sequences allowed\n",
    "        self.memory = [[] for i in range(self.capacity)]\n",
    "        self.insert_idx = 0\n",
    "        self.num_inserts = 0\n",
    "\n",
    "    def push(self, transition):\n",
    "        # transition_sequenceone entry contains: (s,a,r,s',d)\n",
    "        # \n",
    "        self.memory.append(transition)\n",
    "        if transition[-1] == True: # Sequence done?\n",
    "            if self.num_filled < self.capacity:\n",
    "                self.num_filled+=1\n",
    "            self.insert_index = (self.insert_index + 1) % self.capacity\n",
    "            self.memory[self.insert_idx] = [] # make space for new sequence\n",
    "\n",
    "    def sample(self, batch_size):\n",
    "        assert batch_size <= len(self.memory)\n",
    "        return random.sample(self.memory, batch_size)\n",
    "\n",
    "    def __len__(self):\n",
    "        return len(self.memory)"
   ]
  },
  {
   "cell_type": "code",
   "execution_count": 3,
   "metadata": {},
   "outputs": [],
   "source": [
    "mem = SeqReplayMemory(2)"
   ]
  },
  {
   "cell_type": "code",
   "execution_count": 6,
   "metadata": {},
   "outputs": [],
   "source": [
    "t1=([1,24],1,-1,[7,23],False)\n",
    "t2=([7,23],1,-1,[12,18],False)\n",
    "t3=([12,18],1,-1,[17,17],True)"
   ]
  },
  {
   "cell_type": "code",
   "execution_count": 7,
   "metadata": {},
   "outputs": [],
   "source": [
    "mem.push(t1)"
   ]
  },
  {
   "cell_type": "code",
   "execution_count": null,
   "metadata": {},
   "outputs": [],
   "source": []
  }
 ],
 "metadata": {
  "kernelspec": {
   "display_name": "Python 3",
   "language": "python",
   "name": "python3"
  },
  "language_info": {
   "codemirror_mode": {
    "name": "ipython",
    "version": 3
   },
   "file_extension": ".py",
   "mimetype": "text/x-python",
   "name": "python",
   "nbconvert_exporter": "python",
   "pygments_lexer": "ipython3",
   "version": "3.7.11"
  }
 },
 "nbformat": 4,
 "nbformat_minor": 4
}
